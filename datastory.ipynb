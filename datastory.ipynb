{
 "cells": [
  {
   "metadata": {
    "ExecuteTime": {
     "end_time": "2024-04-18T18:19:42.536530Z",
     "start_time": "2024-04-18T18:19:42.532157Z"
    }
   },
   "cell_type": "code",
   "source": [
    "import openmeteo_requests\n",
    "\n",
    "import requests_cache\n",
    "import pandas as pd\n",
    "from retry_requests import retry"
   ],
   "id": "f86e9f4a5d8dde38",
   "outputs": [],
   "execution_count": 4
  },
  {
   "cell_type": "code",
   "id": "initial_id",
   "metadata": {
    "collapsed": true,
    "ExecuteTime": {
     "end_time": "2024-04-18T18:20:27.213045Z",
     "start_time": "2024-04-18T18:20:27.168523Z"
    }
   },
   "source": [
    "def call_open_meteo(selected_station):\n",
    "    # Setup the Open-Meteo API client with cache and retry on error\n",
    "    cache_session = requests_cache.CachedSession(\".cache\", expire_after=-1)\n",
    "    retry_session = retry(cache_session, retries=5, backoff_factor=0.2)\n",
    "    openmeteo = openmeteo_requests.Client(session=retry_session)\n",
    "\n",
    "    # The order of variables in hourly or daily is important to assign them correctly below\n",
    "    url = \"https://archive-api.open-meteo.com/v1/archive\"\n",
    "    params = {\n",
    "        \"latitude\": selected_station[\"lat\"],\n",
    "        \"longitude\": selected_station[\"lon\"],\n",
    "        \"start_date\": \"1940-01-01\",\n",
    "        \"end_date\": \"2024-02-29\",\n",
    "        \"daily\": \"wind_speed_10m_max\",\n",
    "        \"timezone\": \"Europe/Berlin\",\n",
    "    }\n",
    "    responses = openmeteo.weather_api(url, params=params)\n",
    "\n",
    "    # Process first location. Add a for-loop for multiple locations or weather models\n",
    "    response = responses[0]\n",
    "\n",
    "    # Process daily data. The order of variables needs to be the same as requested.\n",
    "    daily = response.Daily()\n",
    "    daily_wind_speed_10m_max = daily.Variables(0).ValuesAsNumpy()\n",
    "\n",
    "    daily_data = {\n",
    "        \"date\": pd.date_range(\n",
    "            start=pd.to_datetime(daily.Time(), unit=\"s\", utc=True),\n",
    "            end=pd.to_datetime(daily.TimeEnd(), unit=\"s\", utc=True),\n",
    "            freq=pd.Timedelta(seconds=daily.Interval()),\n",
    "            inclusive=\"left\",\n",
    "        ),\n",
    "        \"wind_speed_10m_max\": daily_wind_speed_10m_max,\n",
    "    }\n",
    "\n",
    "    daily_dataframe = pd.DataFrame(data=daily_data)\n",
    "    return daily_dataframe"
   ],
   "outputs": [],
   "execution_count": 5
  },
  {
   "metadata": {
    "ExecuteTime": {
     "end_time": "2024-04-18T18:20:42.300914Z",
     "start_time": "2024-04-18T18:20:42.296603Z"
    }
   },
   "cell_type": "code",
   "source": "zurich = {'lat':47.3744, 'lon':8.5411}",
   "id": "5cc980115efb11c6",
   "outputs": [],
   "execution_count": 6
  },
  {
   "metadata": {
    "ExecuteTime": {
     "end_time": "2024-04-18T18:20:52.891881Z",
     "start_time": "2024-04-18T18:20:51.700798Z"
    }
   },
   "cell_type": "code",
   "source": [
    "zurich_w = call_open_meteo(zurich)\n",
    "\n",
    "zurich_w"
   ],
   "id": "c3e101dbde080b8",
   "outputs": [
    {
     "data": {
      "text/plain": [
       "                           date  wind_speed_10m_max\n",
       "0     1939-12-31 22:00:00+00:00                 NaN\n",
       "1     1940-01-01 22:00:00+00:00           12.496718\n",
       "2     1940-01-02 22:00:00+00:00            6.608722\n",
       "3     1940-01-03 22:00:00+00:00            7.289445\n",
       "4     1940-01-04 22:00:00+00:00            6.109403\n",
       "...                         ...                 ...\n",
       "30736 2024-02-24 22:00:00+00:00            8.209263\n",
       "30737 2024-02-25 22:00:00+00:00            7.280550\n",
       "30738 2024-02-26 22:00:00+00:00           16.087610\n",
       "30739 2024-02-27 22:00:00+00:00           12.261157\n",
       "30740 2024-02-28 22:00:00+00:00            5.771239\n",
       "\n",
       "[30741 rows x 2 columns]"
      ],
      "text/html": [
       "<div>\n",
       "<style scoped>\n",
       "    .dataframe tbody tr th:only-of-type {\n",
       "        vertical-align: middle;\n",
       "    }\n",
       "\n",
       "    .dataframe tbody tr th {\n",
       "        vertical-align: top;\n",
       "    }\n",
       "\n",
       "    .dataframe thead th {\n",
       "        text-align: right;\n",
       "    }\n",
       "</style>\n",
       "<table border=\"1\" class=\"dataframe\">\n",
       "  <thead>\n",
       "    <tr style=\"text-align: right;\">\n",
       "      <th></th>\n",
       "      <th>date</th>\n",
       "      <th>wind_speed_10m_max</th>\n",
       "    </tr>\n",
       "  </thead>\n",
       "  <tbody>\n",
       "    <tr>\n",
       "      <th>0</th>\n",
       "      <td>1939-12-31 22:00:00+00:00</td>\n",
       "      <td>NaN</td>\n",
       "    </tr>\n",
       "    <tr>\n",
       "      <th>1</th>\n",
       "      <td>1940-01-01 22:00:00+00:00</td>\n",
       "      <td>12.496718</td>\n",
       "    </tr>\n",
       "    <tr>\n",
       "      <th>2</th>\n",
       "      <td>1940-01-02 22:00:00+00:00</td>\n",
       "      <td>6.608722</td>\n",
       "    </tr>\n",
       "    <tr>\n",
       "      <th>3</th>\n",
       "      <td>1940-01-03 22:00:00+00:00</td>\n",
       "      <td>7.289445</td>\n",
       "    </tr>\n",
       "    <tr>\n",
       "      <th>4</th>\n",
       "      <td>1940-01-04 22:00:00+00:00</td>\n",
       "      <td>6.109403</td>\n",
       "    </tr>\n",
       "    <tr>\n",
       "      <th>...</th>\n",
       "      <td>...</td>\n",
       "      <td>...</td>\n",
       "    </tr>\n",
       "    <tr>\n",
       "      <th>30736</th>\n",
       "      <td>2024-02-24 22:00:00+00:00</td>\n",
       "      <td>8.209263</td>\n",
       "    </tr>\n",
       "    <tr>\n",
       "      <th>30737</th>\n",
       "      <td>2024-02-25 22:00:00+00:00</td>\n",
       "      <td>7.280550</td>\n",
       "    </tr>\n",
       "    <tr>\n",
       "      <th>30738</th>\n",
       "      <td>2024-02-26 22:00:00+00:00</td>\n",
       "      <td>16.087610</td>\n",
       "    </tr>\n",
       "    <tr>\n",
       "      <th>30739</th>\n",
       "      <td>2024-02-27 22:00:00+00:00</td>\n",
       "      <td>12.261157</td>\n",
       "    </tr>\n",
       "    <tr>\n",
       "      <th>30740</th>\n",
       "      <td>2024-02-28 22:00:00+00:00</td>\n",
       "      <td>5.771239</td>\n",
       "    </tr>\n",
       "  </tbody>\n",
       "</table>\n",
       "<p>30741 rows × 2 columns</p>\n",
       "</div>"
      ]
     },
     "execution_count": 7,
     "metadata": {},
     "output_type": "execute_result"
    }
   ],
   "execution_count": 7
  }
 ],
 "metadata": {
  "kernelspec": {
   "display_name": "Python 3",
   "language": "python",
   "name": "python3"
  },
  "language_info": {
   "codemirror_mode": {
    "name": "ipython",
    "version": 2
   },
   "file_extension": ".py",
   "mimetype": "text/x-python",
   "name": "python",
   "nbconvert_exporter": "python",
   "pygments_lexer": "ipython2",
   "version": "2.7.6"
  }
 },
 "nbformat": 4,
 "nbformat_minor": 5
}
