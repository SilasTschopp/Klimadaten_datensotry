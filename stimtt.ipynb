{
 "cells": [
  {
   "cell_type": "code",
   "id": "initial_id",
   "metadata": {
    "collapsed": true,
    "ExecuteTime": {
     "end_time": "2024-04-28T13:14:55.183720Z",
     "start_time": "2024-04-28T13:14:54.228812Z"
    }
   },
   "source": [
    "import openmeteo_requests\n",
    "\n",
    "import requests_cache\n",
    "import pandas as pd\n",
    "\n",
    "from requests.adapters import HTTPAdapter\n",
    "from requests.packages.urllib3.util.retry import Retry\n",
    "from retry_requests import retry\n",
    "import pickleshare"
   ],
   "outputs": [],
   "execution_count": 2
  },
  {
   "metadata": {
    "ExecuteTime": {
     "end_time": "2024-04-28T13:20:23.329482Z",
     "start_time": "2024-04-28T13:20:23.279615Z"
    }
   },
   "cell_type": "code",
   "source": [
    "# Setup the Open-Meteo API client with cache and retry on error\n",
    "cache_session = requests_cache.CachedSession('.cache', expire_after = -1)\n",
    "retry_session = retry(cache_session, retries = 5, backoff_factor = 0.2)\n",
    "openmeteo = openmeteo_requests.Client(session = retry_session)\n",
    "\n",
    "# Make sure all required weather variables are listed here\n",
    "# The order of variables in hourly or daily is important to assign them correctly below\n",
    "url = \"https://archive-api.open-meteo.com/v1/archive\"\n",
    "params = {\n",
    "\t\"latitude\": selected_station[\"lat\"],\n",
    "\t\"longitude\": selected_station[\"lon\"],\n",
    "\t\"start_date\": \"1999-12-01\",\n",
    "\t\"end_date\": \"1999-12-31\",\n",
    "\t\"hourly\": \"wind_speed_10m\"\n",
    "}\n",
    "responses = openmeteo.weather_api(url, params=params)\n",
    "\n",
    "# Process first location. Add a for-loop for multiple locations or weather models\n",
    "response = responses[0]\n",
    "\n",
    "# Process hourly data. The order of variables needs to be the same as requested.\n",
    "hourly = response.Hourly()\n",
    "hourly_wind_speed_10m = hourly.Variables(0).ValuesAsNumpy()\n",
    "\n",
    "hourly_data = {\"date\": pd.date_range(\n",
    "\tstart = pd.to_datetime(hourly.Time(), unit = \"s\", utc = True),\n",
    "\tend = pd.to_datetime(hourly.TimeEnd(), unit = \"s\", utc = True),\n",
    "\tfreq = pd.Timedelta(seconds = hourly.Interval()),\n",
    "\tinclusive = \"left\"\n",
    ")}\n",
    "hourly_data[\"wind_speed_10m\"] = hourly_wind_speed_10m\n",
    "\n",
    "hourly_dataframe = pd.DataFrame(data = hourly_data)\n",
    "# Group hourly data by day and calculate the daily average wind speed\n",
    "daily_averages = hourly_dataframe.resample('D', on='date').mean()\n",
    "# Extract only the date from the index\n",
    "daily_averages.index = daily_averages.index.date\n",
    "\n",
    "# Print the daily averages\n",
    "return daily_averages\n"
   ],
   "id": "23b523c7b1c6e63c",
   "outputs": [
    {
     "ename": "NameError",
     "evalue": "name 'selected_station' is not defined",
     "output_type": "error",
     "traceback": [
      "\u001B[1;31m---------------------------------------------------------------------------\u001B[0m",
      "\u001B[1;31mNameError\u001B[0m                                 Traceback (most recent call last)",
      "Cell \u001B[1;32mIn[11], line 10\u001B[0m\n\u001B[0;32m      6\u001B[0m \u001B[38;5;66;03m# Make sure all required weather variables are listed here\u001B[39;00m\n\u001B[0;32m      7\u001B[0m \u001B[38;5;66;03m# The order of variables in hourly or daily is important to assign them correctly below\u001B[39;00m\n\u001B[0;32m      8\u001B[0m url \u001B[38;5;241m=\u001B[39m \u001B[38;5;124m\"\u001B[39m\u001B[38;5;124mhttps://archive-api.open-meteo.com/v1/archive\u001B[39m\u001B[38;5;124m\"\u001B[39m\n\u001B[0;32m      9\u001B[0m params \u001B[38;5;241m=\u001B[39m {\n\u001B[1;32m---> 10\u001B[0m \t\u001B[38;5;124m\"\u001B[39m\u001B[38;5;124mlatitude\u001B[39m\u001B[38;5;124m\"\u001B[39m: \u001B[43mselected_station\u001B[49m[\u001B[38;5;124m\"\u001B[39m\u001B[38;5;124mlat\u001B[39m\u001B[38;5;124m\"\u001B[39m],\n\u001B[0;32m     11\u001B[0m \t\u001B[38;5;124m\"\u001B[39m\u001B[38;5;124mlongitude\u001B[39m\u001B[38;5;124m\"\u001B[39m: selected_station[\u001B[38;5;124m\"\u001B[39m\u001B[38;5;124mlon\u001B[39m\u001B[38;5;124m\"\u001B[39m],\n\u001B[0;32m     12\u001B[0m \t\u001B[38;5;124m\"\u001B[39m\u001B[38;5;124mstart_date\u001B[39m\u001B[38;5;124m\"\u001B[39m: \u001B[38;5;124m\"\u001B[39m\u001B[38;5;124m1999-12-01\u001B[39m\u001B[38;5;124m\"\u001B[39m,\n\u001B[0;32m     13\u001B[0m \t\u001B[38;5;124m\"\u001B[39m\u001B[38;5;124mend_date\u001B[39m\u001B[38;5;124m\"\u001B[39m: \u001B[38;5;124m\"\u001B[39m\u001B[38;5;124m1999-12-31\u001B[39m\u001B[38;5;124m\"\u001B[39m,\n\u001B[0;32m     14\u001B[0m \t\u001B[38;5;124m\"\u001B[39m\u001B[38;5;124mhourly\u001B[39m\u001B[38;5;124m\"\u001B[39m: \u001B[38;5;124m\"\u001B[39m\u001B[38;5;124mwind_speed_10m\u001B[39m\u001B[38;5;124m\"\u001B[39m\n\u001B[0;32m     15\u001B[0m }\n\u001B[0;32m     16\u001B[0m responses \u001B[38;5;241m=\u001B[39m openmeteo\u001B[38;5;241m.\u001B[39mweather_api(url, params\u001B[38;5;241m=\u001B[39mparams)\n\u001B[0;32m     18\u001B[0m \u001B[38;5;66;03m# Process first location. Add a for-loop for multiple locations or weather models\u001B[39;00m\n",
      "\u001B[1;31mNameError\u001B[0m: name 'selected_station' is not defined"
     ]
    }
   ],
   "execution_count": 11
  }
 ],
 "metadata": {
  "kernelspec": {
   "display_name": "Python 3",
   "language": "python",
   "name": "python3"
  },
  "language_info": {
   "codemirror_mode": {
    "name": "ipython",
    "version": 2
   },
   "file_extension": ".py",
   "mimetype": "text/x-python",
   "name": "python",
   "nbconvert_exporter": "python",
   "pygments_lexer": "ipython2",
   "version": "2.7.6"
  }
 },
 "nbformat": 4,
 "nbformat_minor": 5
}
