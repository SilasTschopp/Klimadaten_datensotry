{
 "cells": [
  {
   "cell_type": "code",
   "id": "initial_id",
   "metadata": {
    "collapsed": true,
    "ExecuteTime": {
     "end_time": "2024-04-28T13:14:55.183720Z",
     "start_time": "2024-04-28T13:14:54.228812Z"
    }
   },
   "source": [
    "import openmeteo_requests\n",
    "\n",
    "import requests_cache\n",
    "import pandas as pd\n",
    "\n",
    "from requests.adapters import HTTPAdapter\n",
    "from requests.packages.urllib3.util.retry import Retry\n",
    "from retry_requests import retry\n",
    "import pickleshare"
   ],
   "outputs": [],
   "execution_count": 2
  },
  {
   "metadata": {
    "ExecuteTime": {
     "end_time": "2024-04-28T13:33:05.335233Z",
     "start_time": "2024-04-28T13:33:05.298871Z"
    }
   },
   "cell_type": "code",
   "source": [
    "# Setup the Open-Meteo API client with cache and retry on error\n",
    "cache_session = requests_cache.CachedSession('.cache', expire_after=-1)\n",
    "retry_session = retry(cache_session, retries=5, backoff_factor=0.2)\n",
    "openmeteo = openmeteo_requests.Client(session=retry_session)\n",
    "\n",
    "# Make sure all required weather variables are listed here\n",
    "# The order of variables in hourly or daily is important to assign them correctly below\n",
    "url = \"https://archive-api.open-meteo.com/v1/archive\"\n",
    "params = {\n",
    "    \"latitude\": 52.52,\n",
    "    \"longitude\": 13.41,\n",
    "    \"start_date\": \"1999-12-01\",\n",
    "    \"end_date\": \"1999-12-31\",\n",
    "    \"hourly\": \"temperature_2m\",\n",
    "    \"daily\": \"temperature_2m_mean\"\n",
    "}\n",
    "responses = openmeteo.weather_api(url, params=params)\n",
    "\n",
    "# Process first location. Add a for-loop for multiple locations or weather models\n",
    "response = responses[0]\n",
    "\n",
    "# Process hourly data. The order of variables needs to be the same as requested.\n",
    "hourly = response.Hourly()\n",
    "hourly_temperature_2m = hourly.Variables(0).ValuesAsNumpy()\n",
    "\n",
    "hourly_data = {\"date\": pd.date_range(\n",
    "    start=pd.to_datetime(hourly.Time(), unit=\"s\", utc=True),\n",
    "    end=pd.to_datetime(hourly.TimeEnd(), unit=\"s\", utc=True),\n",
    "    freq=pd.Timedelta(seconds=hourly.Interval()),\n",
    "    inclusive=\"left\",\n",
    "    normalize=True  # Setze normalize=True, um nur das Datum zu erhalten\n",
    ")}\n",
    "hourly_data[\"temperature_2m\"] = hourly_temperature_2m\n",
    "\n",
    "hourly_dataframe = pd.DataFrame(data=hourly_data)\n",
    "\n",
    "# Process daily data. The order of variables needs to be the same as requested.\n",
    "daily = response.Daily()\n",
    "daily_temperature_2m_mean = daily.Variables(0).ValuesAsNumpy()\n",
    "\n",
    "daily_data = {\"date\": pd.date_range(\n",
    "    start=pd.to_datetime(daily.Time(), unit=\"s\", utc=False),\n",
    "    end=pd.to_datetime(daily.TimeEnd(), unit=\"s\", utc=False),\n",
    "    freq=pd.Timedelta(seconds=daily.Interval()),\n",
    "    inclusive=\"left\",\n",
    "    normalize=True  # Setze normalize=True, um nur das Datum zu erhalten\n",
    ")}\n",
    "daily_data[\"temperature_2m_mean\"] = daily_temperature_2m_mean\n",
    "\n",
    "daily_dataframe = pd.DataFrame(data=daily_data)\n",
    "\n",
    "# Set the index of the DataFrame to the date only\n",
    "daily_dataframe.set_index(\"date\", inplace=True)\n",
    "\n",
    "return daily_dataframe"
   ],
   "id": "23b523c7b1c6e63c",
   "outputs": [
    {
     "name": "stdout",
     "output_type": "stream",
     "text": [
      "            temperature_2m_mean\n",
      "date                           \n",
      "1999-12-01             7.916082\n",
      "1999-12-02             4.857750\n",
      "1999-12-03             5.553583\n",
      "1999-12-04             3.514000\n",
      "1999-12-05             1.926500\n",
      "1999-12-06             1.761917\n",
      "1999-12-07             7.126501\n",
      "1999-12-08             5.530667\n",
      "1999-12-09             7.720250\n",
      "1999-12-10             6.428583\n",
      "1999-12-11             5.330667\n",
      "1999-12-12             8.880667\n",
      "1999-12-13             3.993166\n",
      "1999-12-14             2.518167\n",
      "1999-12-15             0.609833\n",
      "1999-12-16             0.026500\n",
      "1999-12-17             1.303583\n",
      "1999-12-18             1.307750\n",
      "1999-12-19            -0.765167\n",
      "1999-12-20             0.378583\n",
      "1999-12-21            -1.229750\n",
      "1999-12-22            -1.813083\n",
      "1999-12-23            -1.073500\n",
      "1999-12-24             1.334833\n",
      "1999-12-25             4.370250\n",
      "1999-12-26             1.639000\n",
      "1999-12-27             1.791083\n",
      "1999-12-28             0.593167\n",
      "1999-12-29             0.559833\n",
      "1999-12-30             0.405667\n",
      "1999-12-31             0.711917\n"
     ]
    }
   ],
   "execution_count": 30
  }
 ],
 "metadata": {
  "kernelspec": {
   "display_name": "Python 3",
   "language": "python",
   "name": "python3"
  },
  "language_info": {
   "codemirror_mode": {
    "name": "ipython",
    "version": 2
   },
   "file_extension": ".py",
   "mimetype": "text/x-python",
   "name": "python",
   "nbconvert_exporter": "python",
   "pygments_lexer": "ipython2",
   "version": "2.7.6"
  }
 },
 "nbformat": 4,
 "nbformat_minor": 5
}
