{
 "cells": [
  {
   "metadata": {},
   "cell_type": "markdown",
   "source": "Hier sind die Importe, welche die API benötigt",
   "id": "ff919d6754fb3847"
  },
  {
   "metadata": {
    "ExecuteTime": {
     "end_time": "2024-04-28T12:34:29.007392Z",
     "start_time": "2024-04-28T12:34:28.987533Z"
    }
   },
   "cell_type": "code",
   "source": [
    "import openmeteo_requests\n",
    "\n",
    "import requests_cache\n",
    "import pandas as pd\n",
    "\n",
    "from requests.adapters import HTTPAdapter\n",
    "from requests.packages.urllib3.util.retry import Retry\n",
    "from retry_requests import retry\n",
    "import pickleshare"
   ],
   "id": "f86e9f4a5d8dde38",
   "outputs": [
    {
     "ename": "ModuleNotFoundError",
     "evalue": "No module named 'retry_requests'",
     "output_type": "error",
     "traceback": [
      "\u001B[1;31m---------------------------------------------------------------------------\u001B[0m",
      "\u001B[1;31mModuleNotFoundError\u001B[0m                       Traceback (most recent call last)",
      "Cell \u001B[1;32mIn[12], line 8\u001B[0m\n\u001B[0;32m      6\u001B[0m \u001B[38;5;28;01mfrom\u001B[39;00m \u001B[38;5;21;01mrequests\u001B[39;00m\u001B[38;5;21;01m.\u001B[39;00m\u001B[38;5;21;01madapters\u001B[39;00m \u001B[38;5;28;01mimport\u001B[39;00m HTTPAdapter\n\u001B[0;32m      7\u001B[0m \u001B[38;5;28;01mfrom\u001B[39;00m \u001B[38;5;21;01mrequests\u001B[39;00m\u001B[38;5;21;01m.\u001B[39;00m\u001B[38;5;21;01mpackages\u001B[39;00m\u001B[38;5;21;01m.\u001B[39;00m\u001B[38;5;21;01murllib3\u001B[39;00m\u001B[38;5;21;01m.\u001B[39;00m\u001B[38;5;21;01mutil\u001B[39;00m\u001B[38;5;21;01m.\u001B[39;00m\u001B[38;5;21;01mretry\u001B[39;00m \u001B[38;5;28;01mimport\u001B[39;00m Retry\n\u001B[1;32m----> 8\u001B[0m \u001B[38;5;28;01mfrom\u001B[39;00m \u001B[38;5;21;01mretry_requests\u001B[39;00m \u001B[38;5;28;01mimport\u001B[39;00m retry\n\u001B[0;32m      9\u001B[0m \u001B[38;5;28;01mimport\u001B[39;00m \u001B[38;5;21;01mpickleshare\u001B[39;00m\n",
      "\u001B[1;31mModuleNotFoundError\u001B[0m: No module named 'retry_requests'"
     ]
    }
   ],
   "execution_count": 12
  },
  {
   "metadata": {},
   "cell_type": "markdown",
   "source": "Hier ist die Definition für die API um die Daten zu holen",
   "id": "b66c354a80ecbef0"
  },
  {
   "metadata": {
    "ExecuteTime": {
     "end_time": "2024-04-28T12:33:28.318150Z",
     "start_time": "2024-04-28T12:33:28.311212Z"
    }
   },
   "cell_type": "code",
   "source": [
    "def call_open_meteo_averages(selected_station):\n",
    "    # Setup the Open-Meteo API client with cache and retry on error\n",
    "    cache_session = requests_cache.CachedSession(\".cache\", expire_after=-1)\n",
    "    retry_strategy = Retry(total=5, backoff_factor=0.2)\n",
    "    adapter = HTTPAdapter(max_retries=retry_strategy)\n",
    "    cache_session.mount('http://', adapter)\n",
    "    cache_session.mount('https://', adapter)\n",
    "    openmeteo = openmeteo_requests.Client(session=cache_session)\n",
    "\n",
    "    # Initialize an empty list to store daily data\n",
    "    daily_data = []\n",
    "\n",
    "    # Define the start and end dates for the loop\n",
    "    start_date = pd.Timestamp(\"1999-12-01\")\n",
    "    end_date = pd.Timestamp(\"1999-12-31\")\n",
    "\n",
    "    # Iterate through each day of December\n",
    "    while start_date <= end_date:\n",
    "        # Define the parameters for the API call\n",
    "        params = {\n",
    "            \"latitude\": selected_station[\"lat\"],\n",
    "            \"longitude\": selected_station[\"lon\"],\n",
    "            \"start_date\": start_date.strftime(\"%Y-%m-%d\"),\n",
    "            \"end_date\": start_date.strftime(\"%Y-%m-%d\"),  # Use the same start and end date for daily data\n",
    "            \"daily\": \"wind_speed_10m_max\",\n",
    "            \"timezone\": \"Europe/Berlin\",\n",
    "        }\n",
    "\n",
    "        # Make the API call\n",
    "        responses = openmeteo.weather_api(\"https://archive-api.open-meteo.com/v1/archive\", params=params)\n",
    "\n",
    "        for response in responses:\n",
    "            # Process daily data. The order of variables needs to be the same as requested.\n",
    "            daily = response.Daily()\n",
    "            daily_wind_speed_10m_max = daily.Variables(0).ValuesAsNumpy()\n",
    "\n",
    "            daily_data.append({\n",
    "                \"date\": start_date.strftime('%Y-%m-%d'),  # Format date to include year, month, and day\n",
    "                \"wind_speed_10m_max\": daily_wind_speed_10m_max,\n",
    "            })\n",
    "\n",
    "        # Move to the next day\n",
    "        start_date += pd.Timedelta(days=1)\n",
    "\n",
    "    # Create a DataFrame from daily data\n",
    "    daily_dataframe = pd.DataFrame(daily_data)\n",
    "\n",
    "    # Calculate daily averages\n",
    "    daily_averages = daily_dataframe.groupby('date').mean()\n",
    "\n",
    "    return daily_averages\n"
   ],
   "id": "15663cd8a56a2553",
   "outputs": [],
   "execution_count": 9
  },
  {
   "metadata": {},
   "cell_type": "markdown",
   "source": "hier werden die Städte eingegeben",
   "id": "9023a0311d46e891"
  },
  {
   "metadata": {
    "ExecuteTime": {
     "end_time": "2024-04-28T12:33:40.363514Z",
     "start_time": "2024-04-28T12:33:37.272426Z"
    }
   },
   "cell_type": "code",
   "source": [
    "Deutschland_Berlin={'lat': 52.5200, 'lon': 13.4050}\n",
    "Deutschland_Berlin_wmean = call_open_meteo_averages(Deutschland_Berlin)\n",
    "Deutschland_Berlin_wmean"
   ],
   "id": "bca62c325a6f41b4",
   "outputs": [
    {
     "data": {
      "text/plain": [
       "              wind_speed_10m_max\n",
       "date                            \n",
       "1999-12-01  [31.624725341796875]\n",
       "1999-12-02   [32.49186706542969]\n",
       "1999-12-03   [38.67277908325195]\n",
       "1999-12-04  [39.477081298828125]\n",
       "1999-12-05  [24.944129943847656]\n",
       "1999-12-06  [30.599998474121094]\n",
       "1999-12-07  [28.772987365722656]\n",
       "1999-12-08  [30.821548461914062]\n",
       "1999-12-09  [21.749483108520508]\n",
       "1999-12-10  [23.617755889892578]\n",
       "1999-12-11  [27.238941192626953]\n",
       "1999-12-12    [33.5631217956543]\n",
       "1999-12-13  [28.714370727539062]\n",
       "1999-12-14  [23.784530639648438]\n",
       "1999-12-15  [22.705699920654297]\n",
       "1999-12-16   [16.39482879638672]\n",
       "1999-12-17   [34.20000076293945]\n",
       "1999-12-18  [28.227304458618164]\n",
       "1999-12-19  [18.363529205322266]\n",
       "1999-12-20  [13.319999694824219]\n",
       "1999-12-21   [11.04326057434082]\n",
       "1999-12-22  [18.204042434692383]\n",
       "1999-12-23  [21.626983642578125]\n",
       "1999-12-24   [22.96393585205078]\n",
       "1999-12-25   [32.24161148071289]\n",
       "1999-12-26   [22.72566795349121]\n",
       "1999-12-27   [16.93531036376953]\n",
       "1999-12-28  [10.383987426757812]\n",
       "1999-12-29  [13.551501274108887]\n",
       "1999-12-30  [17.873554229736328]\n",
       "1999-12-31  [15.827720642089844]"
      ],
      "text/html": [
       "<div>\n",
       "<style scoped>\n",
       "    .dataframe tbody tr th:only-of-type {\n",
       "        vertical-align: middle;\n",
       "    }\n",
       "\n",
       "    .dataframe tbody tr th {\n",
       "        vertical-align: top;\n",
       "    }\n",
       "\n",
       "    .dataframe thead th {\n",
       "        text-align: right;\n",
       "    }\n",
       "</style>\n",
       "<table border=\"1\" class=\"dataframe\">\n",
       "  <thead>\n",
       "    <tr style=\"text-align: right;\">\n",
       "      <th></th>\n",
       "      <th>wind_speed_10m_max</th>\n",
       "    </tr>\n",
       "    <tr>\n",
       "      <th>date</th>\n",
       "      <th></th>\n",
       "    </tr>\n",
       "  </thead>\n",
       "  <tbody>\n",
       "    <tr>\n",
       "      <th>1999-12-01</th>\n",
       "      <td>[31.624725341796875]</td>\n",
       "    </tr>\n",
       "    <tr>\n",
       "      <th>1999-12-02</th>\n",
       "      <td>[32.49186706542969]</td>\n",
       "    </tr>\n",
       "    <tr>\n",
       "      <th>1999-12-03</th>\n",
       "      <td>[38.67277908325195]</td>\n",
       "    </tr>\n",
       "    <tr>\n",
       "      <th>1999-12-04</th>\n",
       "      <td>[39.477081298828125]</td>\n",
       "    </tr>\n",
       "    <tr>\n",
       "      <th>1999-12-05</th>\n",
       "      <td>[24.944129943847656]</td>\n",
       "    </tr>\n",
       "    <tr>\n",
       "      <th>1999-12-06</th>\n",
       "      <td>[30.599998474121094]</td>\n",
       "    </tr>\n",
       "    <tr>\n",
       "      <th>1999-12-07</th>\n",
       "      <td>[28.772987365722656]</td>\n",
       "    </tr>\n",
       "    <tr>\n",
       "      <th>1999-12-08</th>\n",
       "      <td>[30.821548461914062]</td>\n",
       "    </tr>\n",
       "    <tr>\n",
       "      <th>1999-12-09</th>\n",
       "      <td>[21.749483108520508]</td>\n",
       "    </tr>\n",
       "    <tr>\n",
       "      <th>1999-12-10</th>\n",
       "      <td>[23.617755889892578]</td>\n",
       "    </tr>\n",
       "    <tr>\n",
       "      <th>1999-12-11</th>\n",
       "      <td>[27.238941192626953]</td>\n",
       "    </tr>\n",
       "    <tr>\n",
       "      <th>1999-12-12</th>\n",
       "      <td>[33.5631217956543]</td>\n",
       "    </tr>\n",
       "    <tr>\n",
       "      <th>1999-12-13</th>\n",
       "      <td>[28.714370727539062]</td>\n",
       "    </tr>\n",
       "    <tr>\n",
       "      <th>1999-12-14</th>\n",
       "      <td>[23.784530639648438]</td>\n",
       "    </tr>\n",
       "    <tr>\n",
       "      <th>1999-12-15</th>\n",
       "      <td>[22.705699920654297]</td>\n",
       "    </tr>\n",
       "    <tr>\n",
       "      <th>1999-12-16</th>\n",
       "      <td>[16.39482879638672]</td>\n",
       "    </tr>\n",
       "    <tr>\n",
       "      <th>1999-12-17</th>\n",
       "      <td>[34.20000076293945]</td>\n",
       "    </tr>\n",
       "    <tr>\n",
       "      <th>1999-12-18</th>\n",
       "      <td>[28.227304458618164]</td>\n",
       "    </tr>\n",
       "    <tr>\n",
       "      <th>1999-12-19</th>\n",
       "      <td>[18.363529205322266]</td>\n",
       "    </tr>\n",
       "    <tr>\n",
       "      <th>1999-12-20</th>\n",
       "      <td>[13.319999694824219]</td>\n",
       "    </tr>\n",
       "    <tr>\n",
       "      <th>1999-12-21</th>\n",
       "      <td>[11.04326057434082]</td>\n",
       "    </tr>\n",
       "    <tr>\n",
       "      <th>1999-12-22</th>\n",
       "      <td>[18.204042434692383]</td>\n",
       "    </tr>\n",
       "    <tr>\n",
       "      <th>1999-12-23</th>\n",
       "      <td>[21.626983642578125]</td>\n",
       "    </tr>\n",
       "    <tr>\n",
       "      <th>1999-12-24</th>\n",
       "      <td>[22.96393585205078]</td>\n",
       "    </tr>\n",
       "    <tr>\n",
       "      <th>1999-12-25</th>\n",
       "      <td>[32.24161148071289]</td>\n",
       "    </tr>\n",
       "    <tr>\n",
       "      <th>1999-12-26</th>\n",
       "      <td>[22.72566795349121]</td>\n",
       "    </tr>\n",
       "    <tr>\n",
       "      <th>1999-12-27</th>\n",
       "      <td>[16.93531036376953]</td>\n",
       "    </tr>\n",
       "    <tr>\n",
       "      <th>1999-12-28</th>\n",
       "      <td>[10.383987426757812]</td>\n",
       "    </tr>\n",
       "    <tr>\n",
       "      <th>1999-12-29</th>\n",
       "      <td>[13.551501274108887]</td>\n",
       "    </tr>\n",
       "    <tr>\n",
       "      <th>1999-12-30</th>\n",
       "      <td>[17.873554229736328]</td>\n",
       "    </tr>\n",
       "    <tr>\n",
       "      <th>1999-12-31</th>\n",
       "      <td>[15.827720642089844]</td>\n",
       "    </tr>\n",
       "  </tbody>\n",
       "</table>\n",
       "</div>"
      ]
     },
     "execution_count": 11,
     "metadata": {},
     "output_type": "execute_result"
    }
   ],
   "execution_count": 11
  },
  {
   "metadata": {
    "ExecuteTime": {
     "end_time": "2024-04-19T09:32:52.103684Z",
     "start_time": "2024-04-19T09:32:47.374411Z"
    }
   },
   "cell_type": "code",
   "source": [
    "Frankreich_Paris={'lat': 48.8566, 'lon': 2.3522}\n",
    "Frankreich_Paris_w = call_open_meteo_averages(Frankreich_Paris)\n",
    "Frankreich_Paris_w"
   ],
   "id": "4c9b44e7c4c4f9e2",
   "outputs": [
    {
     "data": {
      "text/plain": [
       "         wind_speed_10m_max\n",
       "date                       \n",
       "1940-01           18.234991\n",
       "1940-02           18.234991\n",
       "1940-03           18.234991\n",
       "1940-04           18.234991\n",
       "1940-05           18.234991\n",
       "...                     ...\n",
       "2023-10           18.234991\n",
       "2023-11           18.234991\n",
       "2023-12           18.234991\n",
       "2024-01           18.234991\n",
       "2024-02           18.234991\n",
       "\n",
       "[1010 rows x 1 columns]"
      ],
      "text/html": [
       "<div>\n",
       "<style scoped>\n",
       "    .dataframe tbody tr th:only-of-type {\n",
       "        vertical-align: middle;\n",
       "    }\n",
       "\n",
       "    .dataframe tbody tr th {\n",
       "        vertical-align: top;\n",
       "    }\n",
       "\n",
       "    .dataframe thead th {\n",
       "        text-align: right;\n",
       "    }\n",
       "</style>\n",
       "<table border=\"1\" class=\"dataframe\">\n",
       "  <thead>\n",
       "    <tr style=\"text-align: right;\">\n",
       "      <th></th>\n",
       "      <th>wind_speed_10m_max</th>\n",
       "    </tr>\n",
       "    <tr>\n",
       "      <th>date</th>\n",
       "      <th></th>\n",
       "    </tr>\n",
       "  </thead>\n",
       "  <tbody>\n",
       "    <tr>\n",
       "      <th>1940-01</th>\n",
       "      <td>18.234991</td>\n",
       "    </tr>\n",
       "    <tr>\n",
       "      <th>1940-02</th>\n",
       "      <td>18.234991</td>\n",
       "    </tr>\n",
       "    <tr>\n",
       "      <th>1940-03</th>\n",
       "      <td>18.234991</td>\n",
       "    </tr>\n",
       "    <tr>\n",
       "      <th>1940-04</th>\n",
       "      <td>18.234991</td>\n",
       "    </tr>\n",
       "    <tr>\n",
       "      <th>1940-05</th>\n",
       "      <td>18.234991</td>\n",
       "    </tr>\n",
       "    <tr>\n",
       "      <th>...</th>\n",
       "      <td>...</td>\n",
       "    </tr>\n",
       "    <tr>\n",
       "      <th>2023-10</th>\n",
       "      <td>18.234991</td>\n",
       "    </tr>\n",
       "    <tr>\n",
       "      <th>2023-11</th>\n",
       "      <td>18.234991</td>\n",
       "    </tr>\n",
       "    <tr>\n",
       "      <th>2023-12</th>\n",
       "      <td>18.234991</td>\n",
       "    </tr>\n",
       "    <tr>\n",
       "      <th>2024-01</th>\n",
       "      <td>18.234991</td>\n",
       "    </tr>\n",
       "    <tr>\n",
       "      <th>2024-02</th>\n",
       "      <td>18.234991</td>\n",
       "    </tr>\n",
       "  </tbody>\n",
       "</table>\n",
       "<p>1010 rows × 1 columns</p>\n",
       "</div>"
      ]
     },
     "execution_count": 112,
     "metadata": {},
     "output_type": "execute_result"
    }
   ],
   "execution_count": 112
  },
  {
   "metadata": {},
   "cell_type": "code",
   "outputs": [],
   "execution_count": null,
   "source": [
    "Italien_Rom={'lat': 41.9028, 'lon': 12.4964}\n",
    "Italien_Rom_w = call_open_meteo_averages(Italien_Rom)\n",
    "Italien_Rom_w"
   ],
   "id": "53f5b16eeb3a893f"
  },
  {
   "metadata": {},
   "cell_type": "code",
   "outputs": [],
   "execution_count": null,
   "source": [
    "Spanien_Madrid={'lat': 40.4168, 'lon': -3.7038}\n",
    "Spanien_Madrid_w = call_open_meteo_averages(Spanien_Madrid)\n",
    "Spanien_Madrid_w"
   ],
   "id": "e87b328258c0bb14"
  },
  {
   "metadata": {},
   "cell_type": "code",
   "outputs": [],
   "execution_count": null,
   "source": [
    "Vereinigtes_Koenigreich_London={'lat': 51.5074, 'lon': -0.1278}\n",
    "Vereinigtes_Koenigreich_London_w = call_open_meteo_averages(Vereinigtes_Koenigreich_London)\n",
    "Vereinigtes_Koenigreich_London"
   ],
   "id": "142327c453ccc355"
  },
  {
   "metadata": {
    "ExecuteTime": {
     "end_time": "2024-04-19T08:39:28.563507Z",
     "start_time": "2024-04-19T08:39:28.559354Z"
    }
   },
   "cell_type": "code",
   "source": [
    "Griechenland_Athen={'lat': 37.9838, 'lon': 23.7275}\n",
    "Griechenland_Athen_w = call_open_meteo_averages(Griechenland_Athen)\n",
    "Griechenland_Athen"
   ],
   "id": "d092459227512a42",
   "outputs": [],
   "execution_count": 31
  },
  {
   "metadata": {},
   "cell_type": "code",
   "outputs": [],
   "execution_count": null,
   "source": [
    "Oesterreich_Wien={'lat': 48.2082, 'lon': 16.3738}\n",
    "Oesterreich_Wien_w = call_open_meteo_averages(Oesterreich_Wien)\n",
    "Oesterreich_Wien_w"
   ],
   "id": "eba77a4b253f7505"
  },
  {
   "metadata": {},
   "cell_type": "code",
   "outputs": [],
   "execution_count": null,
   "source": [
    "Portugal_Lissabon={'lat': 38.7223, 'lon': -9.1393}\n",
    "Portugal_Lissabon_w = call_open_meteo_averages(Portugal_Lissabon)\n",
    "Portugal_Lissabon_w"
   ],
   "id": "ef26700ef2723e42"
  },
  {
   "metadata": {},
   "cell_type": "code",
   "outputs": [],
   "execution_count": null,
   "source": [
    "Niederlande_Amsterdam={'lat': 52.3676, 'lon': 4.9041}\n",
    "Niederlande_Amsterdam_w = call_open_meteo_averages(Niederlande_Amsterdam)\n",
    "Niederlande_Amsterdam_w"
   ],
   "id": "3a8dd3ae17356f91"
  },
  {
   "metadata": {},
   "cell_type": "code",
   "outputs": [],
   "execution_count": null,
   "source": [
    "Norwegen_Oslo={'lat': 59.9139, 'lon': 10.7522}\n",
    "Norwegen_Oslo_w = call_open_meteo_averages(Norwegen_Oslo)\n",
    "Norwegen_Oslo_w"
   ],
   "id": "e1f7b05b5d02e215"
  },
  {
   "metadata": {
    "ExecuteTime": {
     "end_time": "2024-04-19T12:36:14.263316Z",
     "start_time": "2024-04-19T12:35:59.378441Z"
    }
   },
   "cell_type": "code",
   "source": [
    "Island_Reykjavik={'lat': 64.1466, 'lon': -21.9426}\n",
    "Island_Reykjavik_w = call_open_meteo_averages(Island_Reykjavik)\n",
    "Island_Reykjavik_w"
   ],
   "id": "e55e380b38fd637e",
   "outputs": [
    {
     "data": {
      "text/plain": [
       "         wind_speed_10m_max\n",
       "date                       \n",
       "1940-01           29.108885\n",
       "1940-02           23.009481\n",
       "1940-03           23.759182\n",
       "1940-04           27.143585\n",
       "1940-05           20.283840\n",
       "...                     ...\n",
       "2023-10           23.238674\n",
       "2023-11           24.289364\n",
       "2023-12           22.414587\n",
       "2024-01           26.609282\n",
       "2024-02           21.949081\n",
       "\n",
       "[1010 rows x 1 columns]"
      ],
      "text/html": [
       "<div>\n",
       "<style scoped>\n",
       "    .dataframe tbody tr th:only-of-type {\n",
       "        vertical-align: middle;\n",
       "    }\n",
       "\n",
       "    .dataframe tbody tr th {\n",
       "        vertical-align: top;\n",
       "    }\n",
       "\n",
       "    .dataframe thead th {\n",
       "        text-align: right;\n",
       "    }\n",
       "</style>\n",
       "<table border=\"1\" class=\"dataframe\">\n",
       "  <thead>\n",
       "    <tr style=\"text-align: right;\">\n",
       "      <th></th>\n",
       "      <th>wind_speed_10m_max</th>\n",
       "    </tr>\n",
       "    <tr>\n",
       "      <th>date</th>\n",
       "      <th></th>\n",
       "    </tr>\n",
       "  </thead>\n",
       "  <tbody>\n",
       "    <tr>\n",
       "      <th>1940-01</th>\n",
       "      <td>29.108885</td>\n",
       "    </tr>\n",
       "    <tr>\n",
       "      <th>1940-02</th>\n",
       "      <td>23.009481</td>\n",
       "    </tr>\n",
       "    <tr>\n",
       "      <th>1940-03</th>\n",
       "      <td>23.759182</td>\n",
       "    </tr>\n",
       "    <tr>\n",
       "      <th>1940-04</th>\n",
       "      <td>27.143585</td>\n",
       "    </tr>\n",
       "    <tr>\n",
       "      <th>1940-05</th>\n",
       "      <td>20.283840</td>\n",
       "    </tr>\n",
       "    <tr>\n",
       "      <th>...</th>\n",
       "      <td>...</td>\n",
       "    </tr>\n",
       "    <tr>\n",
       "      <th>2023-10</th>\n",
       "      <td>23.238674</td>\n",
       "    </tr>\n",
       "    <tr>\n",
       "      <th>2023-11</th>\n",
       "      <td>24.289364</td>\n",
       "    </tr>\n",
       "    <tr>\n",
       "      <th>2023-12</th>\n",
       "      <td>22.414587</td>\n",
       "    </tr>\n",
       "    <tr>\n",
       "      <th>2024-01</th>\n",
       "      <td>26.609282</td>\n",
       "    </tr>\n",
       "    <tr>\n",
       "      <th>2024-02</th>\n",
       "      <td>21.949081</td>\n",
       "    </tr>\n",
       "  </tbody>\n",
       "</table>\n",
       "<p>1010 rows × 1 columns</p>\n",
       "</div>"
      ]
     },
     "execution_count": 6,
     "metadata": {},
     "output_type": "execute_result"
    }
   ],
   "execution_count": 6
  },
  {
   "metadata": {},
   "cell_type": "code",
   "outputs": [],
   "execution_count": null,
   "source": [
    "Irland_Dublin={'lat': 53.3498, 'lon': -6.2603}\n",
    "Irland_Dublin_w = call_open_meteo_averages(Irland_Dublin)\n",
    "Irland_Dublin_w"
   ],
   "id": "82428dadfea01c11"
  },
  {
   "metadata": {},
   "cell_type": "code",
   "outputs": [],
   "execution_count": null,
   "source": [
    "Schweden_Stockholm={'lat': 59.3293, 'lon': 18.0686}\n",
    "Schweden_Stockholm_w = call_open_meteo_averages(Schweden_Stockholm)\n",
    "Schweden_Stockholm_w"
   ],
   "id": "a0f3fd1e7303dfc6"
  },
  {
   "metadata": {},
   "cell_type": "code",
   "outputs": [],
   "execution_count": null,
   "source": [
    "Schweiz_Zuerich={'lat': 47.3744, 'lon': 8.5411}\n",
    "Schweiz_Zuerich_w = call_open_meteo_averages(Schweiz_Zuerich)\n",
    "Schweiz_Zuerich_w"
   ],
   "id": "8dcbbae1282416da"
  },
  {
   "metadata": {},
   "cell_type": "code",
   "outputs": [],
   "execution_count": null,
   "source": [
    "Dänemark_Kopenhagen={'lat': 55.6761, 'lon': 12.5683}\n",
    "Dänemark_Kopenhagen_w = call_open_meteo_averages(Dänemark_Kopenhagen)\n",
    "Dänemark_Kopenhagen_w"
   ],
   "id": "126a939d51c3174b"
  },
  {
   "metadata": {},
   "cell_type": "code",
   "outputs": [],
   "execution_count": null,
   "source": [
    "Finnland_Helsinki={'lat': 60.1695, 'lon': 24.9354}\n",
    "Finnland_Helsinki_w = call_open_meteo_averages(Finnland_Helsinki)\n",
    "Finnland_Helsinki_w"
   ],
   "id": "4bdf8ed937bca9c3"
  },
  {
   "metadata": {},
   "cell_type": "code",
   "outputs": [],
   "execution_count": null,
   "source": [
    "Belgien_Bruessel={'lat': 50.8503, 'lon': 4.3517}\n",
    "Belgien_Bruessel_w = call_open_meteo_averages(Belgien_Bruessel)\n",
    "Belgien_Bruessel_w"
   ],
   "id": "d550bcc6d34a140e"
  },
  {
   "metadata": {},
   "cell_type": "code",
   "outputs": [],
   "execution_count": null,
   "source": [
    "Polen_Warschau={'lat': 52.2297, 'lon': 21.0122}\n",
    "Polen_Warschau_w = call_open_meteo_averages(Polen_Warschau)\n",
    "Polen_Warschau_w"
   ],
   "id": "311d3c8ce8c0534c"
  },
  {
   "metadata": {},
   "cell_type": "code",
   "outputs": [],
   "execution_count": null,
   "source": [
    "Tschechien_Prag={'lat': 50.0755, 'lon': 14.4378}\n",
    "Tschechien_Prag_w = call_open_meteo_averages(Tschechien_Prag)\n",
    "Tschechien_Prag_w"
   ],
   "id": "e688c4f4f46ff113"
  },
  {
   "metadata": {},
   "cell_type": "code",
   "outputs": [],
   "execution_count": null,
   "source": [
    "Ungarn_Budapest={'lat': 47.4979, 'lon': 19.0402}\n",
    "Ungarn_Budapest_w = call_open_meteo_averages(Ungarn_Budapest)\n",
    "Ungarn_Budapest_w"
   ],
   "id": "cd51ba438df6fdea"
  },
  {
   "metadata": {},
   "cell_type": "code",
   "outputs": [],
   "execution_count": null,
   "source": [
    "Kroatien_Zagreb={'lat': 45.8150, 'lon': 15.9819}\n",
    "Kroatien_Zagreb_w = call_open_meteo_averages(Kroatien_Zagreb)\n",
    "Kroatien_Zagreb_w"
   ],
   "id": "1c48ead5cd0abec8"
  },
  {
   "metadata": {},
   "cell_type": "code",
   "outputs": [],
   "execution_count": null,
   "source": [
    "Rumaenien_Bukarest={'lat': 44.4268, 'lon': 26.1025}\n",
    "Rumaenien_Bukarest_w = call_open_meteo_averages(Rumaenien_Bukarest)\n",
    "Rumaenien_Bukarest_w"
   ],
   "id": "a14943ac50bcb3cd"
  },
  {
   "metadata": {},
   "cell_type": "code",
   "outputs": [],
   "execution_count": null,
   "source": [
    "Bulgarien_Sofia={'lat': 42.6977, 'lon': 23.3219}\n",
    "Bulgarien_Sofia_w = call_open_meteo_averages(Bulgarien_Sofia)\n",
    "Bulgarien_Sofia_w"
   ],
   "id": "83435a3d78c054a"
  },
  {
   "metadata": {},
   "cell_type": "code",
   "outputs": [],
   "execution_count": null,
   "source": [
    "Litauen_Vilnius={'lat': 54.6872, 'lon': 25.2797}\n",
    "Litauen_Vilnius_w = call_open_meteo_averages(Litauen_Vilnius)\n",
    "Litauen_Vilnius_w"
   ],
   "id": "a89fe2af648226fb"
  },
  {
   "metadata": {},
   "cell_type": "code",
   "outputs": [],
   "execution_count": null,
   "source": [
    "Slowakei_Bratislava={'lat': 48.1486, 'lon': 17.1077}\n",
    "Slowakei_Bratislava_w = call_open_meteo_averages(Slowakei_Bratislava)\n",
    "Slowakei_Bratislava_w"
   ],
   "id": "21392af2262a4136"
  },
  {
   "metadata": {},
   "cell_type": "code",
   "outputs": [],
   "execution_count": null,
   "source": [
    "Estland_Tallinn={'lat': 59.4370, 'lon': 24.7536}\n",
    "Estland_Tallinn_w = call_open_meteo_averages(Estland_Tallinn)\n",
    "Estland_Tallinn_w"
   ],
   "id": "6a75736e6fef2f23"
  },
  {
   "metadata": {},
   "cell_type": "code",
   "outputs": [],
   "execution_count": null,
   "source": [
    "Lettland_Riga={'lat': 56.9496, 'lon': 24.1052}\n",
    "Lettland_Riga_w = call_open_meteo_averages(Lettland_Riga)\n",
    "Lettland_Riga_w"
   ],
   "id": "1b8363bf436e1163"
  },
  {
   "metadata": {},
   "cell_type": "code",
   "outputs": [],
   "execution_count": null,
   "source": [
    "Slowenien_Ljubljana={'lat': 46.0569, 'lon': 14.5058}\n",
    "Slowenien_Ljubljana_w = call_open_meteo_averages(Slowenien_Ljubljana)\n",
    "Slowenien_Ljubljana_w"
   ],
   "id": "e29fe6720b9550b3"
  },
  {
   "metadata": {},
   "cell_type": "code",
   "outputs": [],
   "execution_count": null,
   "source": [
    "Montenegro_Podgorica={'lat': 42.4304, 'lon': 19.2594}\n",
    "Montenegro_Podgorica_w = call_open_meteo_averages(Montenegro_Podgorica)\n",
    "Montenegro_Podgorica_w"
   ],
   "id": "ec4a30e2b658fdd7"
  },
  {
   "metadata": {},
   "cell_type": "code",
   "outputs": [],
   "execution_count": null,
   "source": [
    "Luxemburg_Luxemburg={'lat': 49.6116, 'lon': 6.1319}\n",
    "Luxemburg_Luxemburg_w = call_open_meteo_averages(Luxemburg_Luxemburg)\n",
    "Luxemburg_Luxemburg_w"
   ],
   "id": "522ae07fd4cda661"
  },
  {
   "metadata": {},
   "cell_type": "code",
   "outputs": [],
   "execution_count": null,
   "source": [
    "Malta_Valletta={'lat': 35.8989, 'lon': 14.5146}\n",
    "Malta_Valletta_w = call_open_meteo_averages(Malta_Valletta)\n",
    "Malta_Valletta_w"
   ],
   "id": "a2cc74312eda9418"
  },
  {
   "metadata": {
    "ExecuteTime": {
     "end_time": "2024-04-19T12:55:35.022102Z",
     "start_time": "2024-04-19T12:55:25.083037Z"
    }
   },
   "cell_type": "code",
   "source": [
    "Zypern_Nikosia={'lat': 35.1856, 'lon': 33.3823}\n",
    "Zypern_Nikosia_w = call_open_meteo_averages(Zypern_Nikosia)\n",
    "Zypern_Nikosia_w"
   ],
   "id": "5cc980115efb11c6",
   "outputs": [
    {
     "data": {
      "text/plain": [
       "         wind_speed_10m_max\n",
       "date                       \n",
       "1940-01           15.095005\n",
       "1940-02           13.400969\n",
       "1940-03           14.689674\n",
       "1940-04           13.471786\n",
       "1940-05           13.170252\n",
       "...                     ...\n",
       "2023-10           11.513481\n",
       "2023-11           13.482562\n",
       "2023-12           12.168985\n",
       "2024-01           14.200948\n",
       "2024-02           12.339568\n",
       "\n",
       "[1010 rows x 1 columns]"
      ],
      "text/html": [
       "<div>\n",
       "<style scoped>\n",
       "    .dataframe tbody tr th:only-of-type {\n",
       "        vertical-align: middle;\n",
       "    }\n",
       "\n",
       "    .dataframe tbody tr th {\n",
       "        vertical-align: top;\n",
       "    }\n",
       "\n",
       "    .dataframe thead th {\n",
       "        text-align: right;\n",
       "    }\n",
       "</style>\n",
       "<table border=\"1\" class=\"dataframe\">\n",
       "  <thead>\n",
       "    <tr style=\"text-align: right;\">\n",
       "      <th></th>\n",
       "      <th>wind_speed_10m_max</th>\n",
       "    </tr>\n",
       "    <tr>\n",
       "      <th>date</th>\n",
       "      <th></th>\n",
       "    </tr>\n",
       "  </thead>\n",
       "  <tbody>\n",
       "    <tr>\n",
       "      <th>1940-01</th>\n",
       "      <td>15.095005</td>\n",
       "    </tr>\n",
       "    <tr>\n",
       "      <th>1940-02</th>\n",
       "      <td>13.400969</td>\n",
       "    </tr>\n",
       "    <tr>\n",
       "      <th>1940-03</th>\n",
       "      <td>14.689674</td>\n",
       "    </tr>\n",
       "    <tr>\n",
       "      <th>1940-04</th>\n",
       "      <td>13.471786</td>\n",
       "    </tr>\n",
       "    <tr>\n",
       "      <th>1940-05</th>\n",
       "      <td>13.170252</td>\n",
       "    </tr>\n",
       "    <tr>\n",
       "      <th>...</th>\n",
       "      <td>...</td>\n",
       "    </tr>\n",
       "    <tr>\n",
       "      <th>2023-10</th>\n",
       "      <td>11.513481</td>\n",
       "    </tr>\n",
       "    <tr>\n",
       "      <th>2023-11</th>\n",
       "      <td>13.482562</td>\n",
       "    </tr>\n",
       "    <tr>\n",
       "      <th>2023-12</th>\n",
       "      <td>12.168985</td>\n",
       "    </tr>\n",
       "    <tr>\n",
       "      <th>2024-01</th>\n",
       "      <td>14.200948</td>\n",
       "    </tr>\n",
       "    <tr>\n",
       "      <th>2024-02</th>\n",
       "      <td>12.339568</td>\n",
       "    </tr>\n",
       "  </tbody>\n",
       "</table>\n",
       "<p>1010 rows × 1 columns</p>\n",
       "</div>"
      ]
     },
     "execution_count": 8,
     "metadata": {},
     "output_type": "execute_result"
    }
   ],
   "execution_count": 8
  }
 ],
 "metadata": {
  "kernelspec": {
   "display_name": "Python 3",
   "language": "python",
   "name": "python3"
  },
  "language_info": {
   "codemirror_mode": {
    "name": "ipython",
    "version": 2
   },
   "file_extension": ".py",
   "mimetype": "text/x-python",
   "name": "python",
   "nbconvert_exporter": "python",
   "pygments_lexer": "ipython2",
   "version": "2.7.6"
  }
 },
 "nbformat": 4,
 "nbformat_minor": 5
}
